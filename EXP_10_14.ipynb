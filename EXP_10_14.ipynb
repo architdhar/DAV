{
  "nbformat": 4,
  "nbformat_minor": 0,
  "metadata": {
    "colab": {
      "provenance": [],
      "include_colab_link": true
    },
    "kernelspec": {
      "name": "python3",
      "display_name": "Python 3"
    },
    "language_info": {
      "name": "python"
    }
  },
  "cells": [
    {
      "cell_type": "markdown",
      "metadata": {
        "id": "view-in-github",
        "colab_type": "text"
      },
      "source": [
        "<a href=\"https://colab.research.google.com/github/architdhar/DAV/blob/main/EXP_10_14.ipynb\" target=\"_parent\"><img src=\"https://colab.research.google.com/assets/colab-badge.svg\" alt=\"Open In Colab\"/></a>"
      ]
    },
    {
      "cell_type": "markdown",
      "source": [
        "**Aim**: Event Handling with D3.js\n",
        "\n"
      ],
      "metadata": {
        "id": "Z9ecxAYdBFAr"
      }
    },
    {
      "cell_type": "code",
      "execution_count": null,
      "metadata": {
        "colab": {
          "base_uri": "https://localhost:8080/",
          "height": 221
        },
        "id": "MhOMnOMv-_5t",
        "outputId": "c049ac6f-bb26-4f1d-c936-7caafc16b943"
      },
      "outputs": [
        {
          "output_type": "display_data",
          "data": {
            "text/plain": [
              "<IPython.core.display.HTML object>"
            ],
            "text/html": [
              "<!DOCTYPE html>\n",
              "<html lang=\"en\">\n",
              "<head>\n",
              "  <meta charset=\"UTF-8\">\n",
              "  <meta name=\"viewport\" content=\"width=device-width, initial-scale=1.0\">\n",
              "  <title>D3.js Event Handling</title>\n",
              "  <script src=\"https://d3js.org/d3.v7.min.js\"></script>\n",
              "  <style>\n",
              "    circle {\n",
              "      fill: steelblue;\n",
              "      stroke: white;\n",
              "      stroke-width: 2px;\n",
              "    }\n",
              "    circle:hover {\n",
              "      fill: orange;\n",
              "      cursor: pointer;\n",
              "    }\n",
              "  </style>\n",
              "</head>\n",
              "<body>\n",
              "  <svg width=\"400\" height=\"200\"></svg>\n",
              "\n",
              "  <script>\n",
              "    // Sample data\n",
              "    const data = [\n",
              "      { x: 50, y: 50 },\n",
              "      { x: 150, y: 100 },\n",
              "      { x: 250, y: 150 }\n",
              "    ];\n",
              "\n",
              "    // Create SVG element\n",
              "    const svg = d3.select(\"svg\");\n",
              "\n",
              "    // Create circles\n",
              "    const circles = svg.selectAll(\"circle\")\n",
              "      .data(data)\n",
              "      .enter().append(\"circle\")\n",
              "      .attr(\"cx\", d => d.x)\n",
              "      .attr(\"cy\", d => d.y)\n",
              "      .attr(\"r\", 20);\n",
              "\n",
              "    // Event handling\n",
              "    circles.on(\"mouseover\", function(event, d) {\n",
              "      d3.select(this).attr(\"r\", 25); // Increase radius on mouseover\n",
              "    })\n",
              "    .on(\"mouseout\", function(event, d) {\n",
              "      d3.select(this).attr(\"r\", 20); // Restore radius on mouseout\n",
              "    })\n",
              "    .on(\"click\", function(event, d) {\n",
              "      alert(`Clicked at (${d.x}, ${d.y})`); // Alert on click\n",
              "    });\n",
              "  </script>\n",
              "</body>\n",
              "</html>\n"
            ]
          },
          "metadata": {}
        }
      ],
      "source": [
        "%%html\n",
        "<!DOCTYPE html>\n",
        "<html lang=\"en\">\n",
        "<head>\n",
        "  <meta charset=\"UTF-8\">\n",
        "  <meta name=\"viewport\" content=\"width=device-width, initial-scale=1.0\">\n",
        "  <title>D3.js Event Handling</title>\n",
        "  <script src=\"https://d3js.org/d3.v7.min.js\"></script>\n",
        "  <style>\n",
        "    circle {\n",
        "      fill: steelblue;\n",
        "      stroke: white;\n",
        "      stroke-width: 2px;\n",
        "    }\n",
        "    circle:hover {\n",
        "      fill: orange;\n",
        "      cursor: pointer;\n",
        "    }\n",
        "  </style>\n",
        "</head>\n",
        "<body>\n",
        "  <svg width=\"400\" height=\"200\"></svg>\n",
        "\n",
        "  <script>\n",
        "    // Sample data\n",
        "    const data = [\n",
        "      { x: 50, y: 50 },\n",
        "      { x: 150, y: 100 },\n",
        "      { x: 250, y: 150 }\n",
        "    ];\n",
        "\n",
        "    // Create SVG element\n",
        "    const svg = d3.select(\"svg\");\n",
        "\n",
        "    // Create circles\n",
        "    const circles = svg.selectAll(\"circle\")\n",
        "      .data(data)\n",
        "      .enter().append(\"circle\")\n",
        "      .attr(\"cx\", d => d.x)\n",
        "      .attr(\"cy\", d => d.y)\n",
        "      .attr(\"r\", 20);\n",
        "\n",
        "    // Event handling\n",
        "    circles.on(\"mouseover\", function(event, d) {\n",
        "      d3.select(this).attr(\"r\", 25); // Increase radius on mouseover\n",
        "    })\n",
        "    .on(\"mouseout\", function(event, d) {\n",
        "      d3.select(this).attr(\"r\", 20); // Restore radius on mouseout\n",
        "    })\n",
        "    .on(\"click\", function(event, d) {\n",
        "      alert(`Clicked at (${d.x}, ${d.y})`); // Alert on click\n",
        "    });\n",
        "  </script>\n",
        "</body>\n",
        "</html>\n"
      ]
    },
    {
      "cell_type": "code",
      "source": [
        "%%html\n",
        "<!DOCTYPE html>\n",
        "<html lang=\"en\">\n",
        "<head>\n",
        "  <meta charset=\"UTF-8\">\n",
        "  <meta name=\"viewport\" content=\"width=device-width, initial-scale=1.0\">\n",
        "  <title>D3.js Keyboard Event Handling</title>\n",
        "  <script src=\"https://d3js.org/d3.v7.min.js\"></script>\n",
        "</head>\n",
        "<body>\n",
        "  <div>\n",
        "    <label for=\"textInput\">Type Something:</label>\n",
        "    <input type=\"text\" id=\"textInput\">\n",
        "  </div>\n",
        "  <script>\n",
        "    // Function to handle key presses\n",
        "    function handleKeyPress() {\n",
        "      const inputValue = d3.select(this).property(\"value\");\n",
        "      console.log(\"Typed:\", inputValue);\n",
        "    }\n",
        "\n",
        "    // Select the text input element\n",
        "    const textInput = d3.select(\"#textInput\");\n",
        "\n",
        "    // Attach event listener for key press\n",
        "    textInput.on(\"keyup\", handleKeyPress);\n",
        "  </script>\n",
        "</body>\n",
        "</html>\n"
      ],
      "metadata": {
        "colab": {
          "base_uri": "https://localhost:8080/",
          "height": 37
        },
        "id": "XuXrae6Q_Su5",
        "outputId": "b0077b5b-8f44-4611-fd11-d5dee5ffe89b"
      },
      "execution_count": 1,
      "outputs": [
        {
          "output_type": "display_data",
          "data": {
            "text/plain": [
              "<IPython.core.display.HTML object>"
            ],
            "text/html": [
              "<!DOCTYPE html>\n",
              "<html lang=\"en\">\n",
              "<head>\n",
              "  <meta charset=\"UTF-8\">\n",
              "  <meta name=\"viewport\" content=\"width=device-width, initial-scale=1.0\">\n",
              "  <title>D3.js Keyboard Event Handling</title>\n",
              "  <script src=\"https://d3js.org/d3.v7.min.js\"></script>\n",
              "</head>\n",
              "<body>\n",
              "  <div>\n",
              "    <label for=\"textInput\">Type Something:</label>\n",
              "    <input type=\"text\" id=\"textInput\">\n",
              "  </div>\n",
              "  <script>\n",
              "    // Function to handle key presses\n",
              "    function handleKeyPress() {\n",
              "      const inputValue = d3.select(this).property(\"value\");\n",
              "      console.log(\"Typed:\", inputValue);\n",
              "    }\n",
              "\n",
              "    // Select the text input element\n",
              "    const textInput = d3.select(\"#textInput\");\n",
              "\n",
              "    // Attach event listener for key press\n",
              "    textInput.on(\"keyup\", handleKeyPress);\n",
              "  </script>\n",
              "</body>\n",
              "</html>\n"
            ]
          },
          "metadata": {}
        }
      ]
    },
    {
      "cell_type": "markdown",
      "source": [
        "**Conclusion**:\n",
        "\n",
        "Sucessfully handled events in d3.js"
      ],
      "metadata": {
        "id": "deCoDtb-KcKF"
      }
    }
  ]
}