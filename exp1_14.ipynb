{
  "nbformat": 4,
  "nbformat_minor": 0,
  "metadata": {
    "colab": {
      "provenance": [],
      "include_colab_link": true
    },
    "kernelspec": {
      "name": "python3",
      "display_name": "Python 3"
    },
    "language_info": {
      "name": "python"
    }
  },
  "cells": [
    {
      "cell_type": "markdown",
      "metadata": {
        "id": "view-in-github",
        "colab_type": "text"
      },
      "source": [
        "<a href=\"https://colab.research.google.com/github/architdhar/DAV/blob/main/exp1_14.ipynb\" target=\"_parent\"><img src=\"https://colab.research.google.com/assets/colab-badge.svg\" alt=\"Open In Colab\"/></a>"
      ]
    },
    {
      "cell_type": "markdown",
      "source": [
        "# **Experiment - 1: Getting introduced to data analytics libraries in Python and R**\n",
        "\n",
        "\n",
        "\n"
      ],
      "metadata": {
        "id": "82-h0_13PVh1"
      }
    },
    {
      "cell_type": "markdown",
      "source": [
        "Lab Objectives: To effectively use libraries for data analytics.\n",
        "\n"
      ],
      "metadata": {
        "id": "ek_oYcDFP6Yx"
      }
    },
    {
      "cell_type": "markdown",
      "source": [
        "\n",
        "Lab Outcomes (LO): Explore various data analytics Libraries in R and Python. (LO1)"
      ],
      "metadata": {
        "id": "lNQ4H8XjP9-F"
      }
    },
    {
      "cell_type": "markdown",
      "source": [
        "## Data Analytics Libraries in R"
      ],
      "metadata": {
        "id": "LG_JD6n6bYRV"
      }
    },
    {
      "cell_type": "markdown",
      "source": [
        "### tidyr\n",
        "The goal of tidyr is to help you create tidy data. Tidy data is data where:\n",
        "\n",
        ">1)Every column is a variable.\n",
        "\n",
        ">2)Every row is an observation.\n",
        "\n",
        ">3)Every cell is a single value.\n",
        "\n",
        "Tidy data describes a standard way of storing data that is used wherever possible throughout the tidyverse. If you ensure that your data is tidy, you’ll spend less time fighting with the tools and more time working on your analysis. Learn more about tidy data in vignette(\"tidy-data\")\n",
        "\n",
        "\n",
        "\n"
      ],
      "metadata": {
        "id": "pQik8dLHQ-7l"
      }
    },
    {
      "cell_type": "code",
      "source": [
        "install.packages (\"tidyverse\")"
      ],
      "metadata": {
        "id": "7r-mOIyHVuK8",
        "colab": {
          "base_uri": "https://localhost:8080/"
        },
        "outputId": "51dbccfb-4f3a-4a3b-8075-59f41489ae4f"
      },
      "execution_count": null,
      "outputs": [
        {
          "output_type": "stream",
          "name": "stderr",
          "text": [
            "Installing package into ‘/usr/local/lib/R/site-library’\n",
            "(as ‘lib’ is unspecified)\n",
            "\n"
          ]
        }
      ]
    },
    {
      "cell_type": "code",
      "source": [
        "library(tidyr)\n",
        "n = 10\n",
        "tidy_dataframe = data.frame(\n",
        "                      S.No = c(1:n),\n",
        "                    Group.1 = c(23, 345, 76, 212, 88,\n",
        "                                199, 72, 35, 90, 265),\n",
        "                    Group.2 = c(117, 89, 66, 334, 90,\n",
        "                               101, 178, 233, 45, 200),\n",
        "                    Group.3 = c(29, 101, 239, 289, 176,\n",
        "                                320, 89, 109, 199, 56))\n",
        "\n",
        "tidy_dataframe"
      ],
      "metadata": {
        "id": "7HetEV2mV7uT",
        "colab": {
          "base_uri": "https://localhost:8080/",
          "height": 412
        },
        "outputId": "fc1fcda0-1193-4902-fd5d-99ec61374624"
      },
      "execution_count": null,
      "outputs": [
        {
          "output_type": "display_data",
          "data": {
            "text/html": [
              "<table class=\"dataframe\">\n",
              "<caption>A data.frame: 10 × 4</caption>\n",
              "<thead>\n",
              "\t<tr><th scope=col>S.No</th><th scope=col>Group.1</th><th scope=col>Group.2</th><th scope=col>Group.3</th></tr>\n",
              "\t<tr><th scope=col>&lt;int&gt;</th><th scope=col>&lt;dbl&gt;</th><th scope=col>&lt;dbl&gt;</th><th scope=col>&lt;dbl&gt;</th></tr>\n",
              "</thead>\n",
              "<tbody>\n",
              "\t<tr><td> 1</td><td> 23</td><td>117</td><td> 29</td></tr>\n",
              "\t<tr><td> 2</td><td>345</td><td> 89</td><td>101</td></tr>\n",
              "\t<tr><td> 3</td><td> 76</td><td> 66</td><td>239</td></tr>\n",
              "\t<tr><td> 4</td><td>212</td><td>334</td><td>289</td></tr>\n",
              "\t<tr><td> 5</td><td> 88</td><td> 90</td><td>176</td></tr>\n",
              "\t<tr><td> 6</td><td>199</td><td>101</td><td>320</td></tr>\n",
              "\t<tr><td> 7</td><td> 72</td><td>178</td><td> 89</td></tr>\n",
              "\t<tr><td> 8</td><td> 35</td><td>233</td><td>109</td></tr>\n",
              "\t<tr><td> 9</td><td> 90</td><td> 45</td><td>199</td></tr>\n",
              "\t<tr><td>10</td><td>265</td><td>200</td><td> 56</td></tr>\n",
              "</tbody>\n",
              "</table>\n"
            ],
            "text/markdown": "\nA data.frame: 10 × 4\n\n| S.No &lt;int&gt; | Group.1 &lt;dbl&gt; | Group.2 &lt;dbl&gt; | Group.3 &lt;dbl&gt; |\n|---|---|---|---|\n|  1 |  23 | 117 |  29 |\n|  2 | 345 |  89 | 101 |\n|  3 |  76 |  66 | 239 |\n|  4 | 212 | 334 | 289 |\n|  5 |  88 |  90 | 176 |\n|  6 | 199 | 101 | 320 |\n|  7 |  72 | 178 |  89 |\n|  8 |  35 | 233 | 109 |\n|  9 |  90 |  45 | 199 |\n| 10 | 265 | 200 |  56 |\n\n",
            "text/latex": "A data.frame: 10 × 4\n\\begin{tabular}{llll}\n S.No & Group.1 & Group.2 & Group.3\\\\\n <int> & <dbl> & <dbl> & <dbl>\\\\\n\\hline\n\t  1 &  23 & 117 &  29\\\\\n\t  2 & 345 &  89 & 101\\\\\n\t  3 &  76 &  66 & 239\\\\\n\t  4 & 212 & 334 & 289\\\\\n\t  5 &  88 &  90 & 176\\\\\n\t  6 & 199 & 101 & 320\\\\\n\t  7 &  72 & 178 &  89\\\\\n\t  8 &  35 & 233 & 109\\\\\n\t  9 &  90 &  45 & 199\\\\\n\t 10 & 265 & 200 &  56\\\\\n\\end{tabular}\n",
            "text/plain": [
              "   S.No Group.1 Group.2 Group.3\n",
              "1   1    23     117      29    \n",
              "2   2   345      89     101    \n",
              "3   3    76      66     239    \n",
              "4   4   212     334     289    \n",
              "5   5    88      90     176    \n",
              "6   6   199     101     320    \n",
              "7   7    72     178      89    \n",
              "8   8    35     233     109    \n",
              "9   9    90      45     199    \n",
              "10 10   265     200      56    "
            ]
          },
          "metadata": {}
        }
      ]
    },
    {
      "cell_type": "markdown",
      "source": [
        "### dyplr\n",
        "**What is dplyr?**\n",
        "\n",
        "> The dplyr is a powerful R-package to manipulate, clean and summarize unstructured data. In short, it makes data exploration and data manipulation easy and fast in R.\n",
        "\n",
        "**What's special about dplyr?**\n",
        "\n",
        "> The package \"dplyr\" comprises many functions that perform mostly used data manipulation operations such as applying filter, selecting specific columns, sorting data, adding or deleting columns and aggregating data. Another most important advantage of this package is that it's very easy to learn and use dplyr functions. Also easy to recall these functions. For example, filter() is used to filter rows.\n",
        "\n"
      ],
      "metadata": {
        "id": "sjGr3z59Wc7D"
      }
    },
    {
      "cell_type": "code",
      "source": [
        "library(dplyr)\n",
        "library(tidyr)"
      ],
      "metadata": {
        "id": "roXLYykkXm4d"
      },
      "execution_count": null,
      "outputs": []
    },
    {
      "cell_type": "code",
      "source": [
        "\n",
        "d <- data.frame(name = c(\"Abhi\", \"Bhavesh\", \"Chaman\", \"Dimri\"),\n",
        "\t\t\t\tage = c(7, 5, 9, 16),\n",
        "\t\t\t\tht = c(46, NA, NA, 69),\n",
        "\t\t\t\tschool = c(\"yes\", \"yes\", \"no\", \"no\"))\n",
        "\n",
        "\n",
        "print(d)\n",
        "rows_with_na <- d %>% filter(is.na(ht))\n",
        "\n",
        "print(rows_with_na)\n",
        "\n",
        "rows_without_na <- d %>% filter(!is.na(ht))\n",
        "print(rows_without_na)\n"
      ],
      "metadata": {
        "colab": {
          "base_uri": "https://localhost:8080/"
        },
        "id": "KkPV0GfuXkek",
        "outputId": "5612b9be-f3c4-48ae-e8a9-9d6ed48d60bd"
      },
      "execution_count": null,
      "outputs": [
        {
          "output_type": "stream",
          "name": "stdout",
          "text": [
            "     name age ht school\n",
            "1    Abhi   7 46    yes\n",
            "2 Bhavesh   5 NA    yes\n",
            "3  Chaman   9 NA     no\n",
            "4   Dimri  16 69     no\n",
            "     name age ht school\n",
            "1 Bhavesh   5 NA    yes\n",
            "2  Chaman   9 NA     no\n",
            "   name age ht school\n",
            "1  Abhi   7 46    yes\n",
            "2 Dimri  16 69     no\n"
          ]
        }
      ]
    },
    {
      "cell_type": "markdown",
      "source": [
        "### readr\n",
        "The goal of readr is to provide a fast and friendly way to read rectangular data from delimited files, such as comma-separated values (CSV) and tab-separated values (TSV). It is designed to parse many types of data found in the wild, while providing an informative problem report when parsing leads to unexpected results. If you are new to readr, the best place to start is the data import chapter in R for Data Science.\n",
        "\n",
        "The easiest way to get readr is to install the whole tidyverse:\n",
        "\n",
        ">install.packages(\"tidyverse\")\n",
        "\n",
        "Alternatively, install just readr:\n",
        "\n",
        ">install.packages(\"readr\")"
      ],
      "metadata": {
        "id": "e2u9NrvVZL52"
      }
    },
    {
      "cell_type": "markdown",
      "source": [
        "### stringr\n",
        "\n",
        "There are four main families of functions in stringr:\n",
        "\n",
        "1. Character manipulation: these functions allow you to manipulate individual characters within the strings in character vectors.\n",
        "2. Whitespace tools to add, remove, and manipulate whitespace.\n",
        "3. Locale sensitive operations whose operations will vary from locale to locale.\n",
        "4. Pattern matching functions. These recognise four engines of pattern description. The most common is regular expressions, but there are three other tools.\n",
        "\n",
        "**Pattern matching**\n",
        "\n",
        "The vast majority of stringr functions work with patterns. These are parameterised by the task they perform and the types of patterns they match.\n"
      ],
      "metadata": {
        "id": "wzWbYCV5Z6qc"
      }
    },
    {
      "cell_type": "markdown",
      "source": [
        "### jsonlite\n",
        "The jsonlite package is a JSON parser/generator optimized for the web. Its main strength is that it implements a bidirectional mapping between JSON data and the most important R data types. Thereby we can convert between R objects and JSON without loss of type or information, and without the need for any manual data munging. This is ideal for interacting with web APIs, or to build pipelines where data structures seamlessly flow in and out of R using JSON.\n",
        "\n",
        ">**Simplification**\n",
        "\n",
        "Simplification is the process where JSON arrays automatically get converted from a list into a more specific R class. The fromJSON function has 3 arguments which control the simplification process: simplifyVector, simplifyDataFrame and simplifyMatrix. Each one is enabled by default.\n",
        "\n",
        ">**Atomic Vectors**\n",
        "\n",
        "When simplifyVector is enabled, JSON arrays containing primitives (strings, numbers, booleans or null) simplify into an atomic vector:"
      ],
      "metadata": {
        "id": "mDqxs9uwa63U"
      }
    },
    {
      "cell_type": "markdown",
      "source": [
        "## Data Analytics Libraries in Python"
      ],
      "metadata": {
        "id": "1kCfyCtQbgOk"
      }
    },
    {
      "cell_type": "markdown",
      "source": [
        "### Tensorflow\n",
        "\n",
        "TensorFlow makes it easy for beginners and experts to create machine learning models for desktop, mobile, web, and cloud. See the sections below to get started.\n",
        "\n",
        "Data can be the most important factor in the success of your ML endeavors. TensorFlow offers multiple data tools to help you consolidate, clean and preprocess data at scale:\n",
        "\n",
        "1. Standard datasets for initial training and validation\n",
        "\n",
        "2. Highly scalable data pipelines for loading data\n",
        "\n",
        "3. Preprocessing layers for common input transformations\n",
        "\n",
        "4. Tools to validate and transform large datasets\n",
        "\n",
        "Additionally, responsible AI tools help you uncover and eliminate bias in your data to produce fair, ethical outcomes from your models."
      ],
      "metadata": {
        "id": "PeM0qXPMb1Kc"
      }
    },
    {
      "cell_type": "markdown",
      "source": [
        "### Numpy\n",
        "NumPy is the fundamental package for scientific computing in Python. It is a Python library that provides a multidimensional array object, various derived objects (such as masked arrays and matrices), and an assortment of routines for fast operations on arrays, including mathematical, logical, shape manipulation, sorting, selecting, I/O, discrete Fourier transforms, basic linear algebra, basic statistical operations, random simulation and much more.\n",
        "\n",
        "**POWERFUL N-DIMENSIONAL ARRAYS**\n",
        "\n",
        "Fast and versatile, the NumPy vectorization, indexing, and broadcasting concepts are the de-facto standards of array computing today.\n",
        "\n",
        "**NUMERICAL COMPUTING TOOLS**\n",
        "\n",
        "NumPy offers comprehensive mathematical functions, random number generators, linear algebra routines, Fourier transforms, and more.\n",
        "\n",
        "**OPEN SOURCE**\n",
        "\n",
        "Distributed under a liberal BSD license, NumPy is developed and maintained publicly on GitHub by a vibrant, responsive, and diverse community."
      ],
      "metadata": {
        "id": "HLWAX7Dkd_Ck"
      }
    },
    {
      "cell_type": "code",
      "source": [
        "import numpy as np\n",
        "a = np.array([[1, 2], [3, 4]])\n",
        "b = np.array([[5, 6], [7, 8]])\n",
        "c = a + b\n",
        "print(c)\n"
      ],
      "metadata": {
        "id": "rjp6Sl_6eqF8",
        "colab": {
          "base_uri": "https://localhost:8080/"
        },
        "outputId": "fd70a6f0-67ac-4069-9a2e-ff0e2e5de022"
      },
      "execution_count": null,
      "outputs": [
        {
          "output_type": "stream",
          "name": "stdout",
          "text": [
            "[[ 6  8]\n",
            " [10 12]]\n"
          ]
        }
      ]
    },
    {
      "cell_type": "markdown",
      "source": [
        "### SciPy\n",
        "**FUNDAMENTAL ALGORITHMS**\n",
        "\n",
        "SciPy provides algorithms for optimization, integration, interpolation, eigenvalue problems, algebraic equations, differential equations, statistics and many other classes of problems.\n",
        "\n",
        "**BROADLY APPLICABLE**\n",
        "\n",
        "The algorithms and data structures provided by SciPy are broadly applicable across domains.\n",
        "\n",
        "**FOUNDATIONAL**\n",
        "\n",
        "Extends NumPy providing additional tools for array computing and provides specialized data structures, such as sparse matrices and k-dimensional trees.\n",
        "\n",
        "**PERFORMANT**\n",
        "\n",
        "SciPy wraps highly-optimized implementations written in low-level languages like Fortran, C, and C++. Enjoy the flexibility of Python with the speed of compiled code."
      ],
      "metadata": {
        "id": "E2u8MWK-fVYD"
      }
    },
    {
      "cell_type": "markdown",
      "source": [
        "### Pandas\n",
        "Pandas is a Python package providing fast, flexible, and expressive data structures designed to make working with “relational” or “labeled” data both easy and intuitive. It aims to be the fundamental high-level building block for doing practical, real-world data analysis in Python. Additionally, it has the broader goal of becoming the most powerful and flexible open source data analysis/manipulation tool available in any language. It is already well on its way toward this goal.\n",
        "\n",
        "1. Tabular data with heterogeneously-typed columns, as in an SQL table or Excel spreadsheet\n",
        "\n",
        "2. Ordered and unordered (not necessarily fixed-frequency) time series data.\n",
        "\n",
        "3. Arbitrary matrix data (homogeneously typed or heterogeneous) with row and column labels\n",
        "\n",
        "4. Any other form of observational / statistical data sets. The data need not be labeled at all to be placed into a pandas data structure"
      ],
      "metadata": {
        "id": "iU6YM0yNgA_6"
      }
    },
    {
      "cell_type": "code",
      "source": [
        "import pandas as pd\n",
        "\n",
        "data = {'name': ['Alice', 'Bob', 'Carol', 'Dave'],\n",
        "        'age': [20, 25, 30, 35]}\n",
        "df = pd.DataFrame(data)\n",
        "\n",
        "\n",
        "print(df)\n",
        "\n",
        "\n",
        "print(df['age'])\n",
        "\n",
        "\n",
        "print(df.loc[0])\n",
        "\n",
        "\n",
        "print(df.loc[[0, 2]])\n",
        "\n",
        "\n",
        "print(df[['name', 'age']])\n",
        "\n",
        "\n",
        "print(df[df['age'] > 25])\n",
        "\n",
        "\n",
        "print(df.sort_values('age'))\n",
        "\n",
        "\n",
        "print(df.groupby('age'))\n",
        "\n",
        "\n",
        "print(df['age'].mean())\n",
        "\n",
        "\n",
        "df.to_csv('data.csv')\n"
      ],
      "metadata": {
        "colab": {
          "base_uri": "https://localhost:8080/"
        },
        "id": "jaqiMthCgawL",
        "outputId": "4adb2aaf-5e29-4e57-c3ed-d3cab7754049"
      },
      "execution_count": null,
      "outputs": [
        {
          "output_type": "stream",
          "name": "stdout",
          "text": [
            "    name  age\n",
            "0  Alice   20\n",
            "1    Bob   25\n",
            "2  Carol   30\n",
            "3   Dave   35\n",
            "0    20\n",
            "1    25\n",
            "2    30\n",
            "3    35\n",
            "Name: age, dtype: int64\n",
            "name    Alice\n",
            "age        20\n",
            "Name: 0, dtype: object\n",
            "    name  age\n",
            "0  Alice   20\n",
            "2  Carol   30\n",
            "    name  age\n",
            "0  Alice   20\n",
            "1    Bob   25\n",
            "2  Carol   30\n",
            "3   Dave   35\n",
            "    name  age\n",
            "2  Carol   30\n",
            "3   Dave   35\n",
            "    name  age\n",
            "0  Alice   20\n",
            "1    Bob   25\n",
            "2  Carol   30\n",
            "3   Dave   35\n",
            "<pandas.core.groupby.generic.DataFrameGroupBy object at 0x7868166ceb60>\n",
            "27.5\n"
          ]
        }
      ]
    },
    {
      "cell_type": "markdown",
      "source": [
        "### Scrapy\n",
        "Scrapy is an open-source Python framework whose goal is to make web scraping easier. You can build robust and scalable spiders with its comprehensive set of built-in features.\n",
        "\n",
        "While the stand-alone options are libraries like Requests for HTTP requests, BeautifulSoup for data parsing and Selenium to deal with JavaScript-based sites, Scrapy offers all their functionality.\n",
        "It includes:\n",
        "\n",
        ">HTTP connections.\n",
        "\n",
        ">Support for CSS Selectors and XPath expressions.\n",
        "\n",
        ">Data export to CSV, JSON, JSON lines, and XML.\n",
        "\n",
        ">Ability to store data on FTP, S3, and local file system.\n",
        "\n",
        ">Middleware support for integrations.\n",
        "\n",
        ">Cookie and session management.\n",
        "\n",
        ">JavaScript rendering with Splash.\n",
        "\n",
        ">Support for automated retries.\n",
        "\n",
        ">Concurrency management.\n",
        "\n",
        ">Built-in crawling capabilities.\n",
        "\n",
        "Additionally, its active community has created extensions to further enhance its capabilities, allowing developers to tailor the tool to meet their specific scraping requirements."
      ],
      "metadata": {
        "id": "1IceoHuFgy1l"
      }
    },
    {
      "cell_type": "markdown",
      "source": [
        "Conclusion:- Hence we have successfully  explored data analytic using libraries in python and R"
      ],
      "metadata": {
        "id": "AuzHarCYl0Ff"
      }
    }
  ]
}